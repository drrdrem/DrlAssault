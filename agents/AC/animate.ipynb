{
 "cells": [
  {
   "cell_type": "code",
   "execution_count": null,
   "metadata": {},
   "outputs": [],
   "source": [
    "from PIL import Image, ImageDraw, ImageFont\n",
    "import os\n",
    "# assign directory\n",
    " \n",
    "# iterate over files in\n",
    "# that directory\n",
    "\n",
    "frames = []\n",
    "for filename in os.listdir(os.getcwd()):\n",
    "    if (filename.endswith(\".png\")):\n",
    "        im = Image.open(filename) \n",
    "\n",
    "    frames.append(im)\n",
    "\n",
    "# Save into a GIF file that loops forever\n",
    "frames[0].save('moving_text.gif', format='GIF',\n",
    "               append_images=frames[1:], save_all=True, duration=30, loop=0)"
   ]
  }
 ],
 "metadata": {
  "kernelspec": {
   "display_name": "pytorch",
   "language": "python",
   "name": "python3"
  },
  "language_info": {
   "name": "python",
   "version": "3.9.15 (main, Nov 24 2022, 14:39:17) [MSC v.1916 64 bit (AMD64)]"
  },
  "orig_nbformat": 4,
  "vscode": {
   "interpreter": {
    "hash": "6b9db4d4d29223c05a0e853619a44c2041260175b0cac9f7492fab86f3814d57"
   }
  }
 },
 "nbformat": 4,
 "nbformat_minor": 2
}
