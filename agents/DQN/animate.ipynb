{
 "cells": [
  {
   "cell_type": "code",
   "execution_count": 2,
   "metadata": {},
   "outputs": [],
   "source": [
    "from PIL import Image, ImageDraw, ImageFont\n",
    "import os\n",
    "# assign directory\n",
    " \n",
    "# iterate over files in\n",
    "# that directory\n",
    "directory = os.getcwd()\n",
    "\n",
    "# directory = directory + '\\\\2022_12_10_01_10_56'\n",
    "# directory = directory + '\\\\2022_12_09_22_50_00'\n",
    "directory = directory + '\\\\2022_12_10_01_10_56'\n",
    "\n",
    "frames = []\n",
    "for filename in os.listdir(directory)[:1000]:\n",
    "    if (filename.endswith(\".png\")):\n",
    "        im = Image.open(directory+'\\\\'+filename) \n",
    "\n",
    "    frames.append(im)\n",
    "\n",
    "# Save into a GIF file that loops forever\n",
    "frames[0].save('2022_12_10_01_10_56.gif', format='GIF',\n",
    "               append_images=frames[1:], save_all=True, duration=30, loop=0)"
   ]
  },
  {
   "cell_type": "code",
   "execution_count": null,
   "metadata": {},
   "outputs": [],
   "source": []
  }
 ],
 "metadata": {
  "kernelspec": {
   "display_name": "pytorch",
   "language": "python",
   "name": "python3"
  },
  "language_info": {
   "codemirror_mode": {
    "name": "ipython",
    "version": 3
   },
   "file_extension": ".py",
   "mimetype": "text/x-python",
   "name": "python",
   "nbconvert_exporter": "python",
   "pygments_lexer": "ipython3",
   "version": "3.9.15"
  },
  "orig_nbformat": 4,
  "vscode": {
   "interpreter": {
    "hash": "6b9db4d4d29223c05a0e853619a44c2041260175b0cac9f7492fab86f3814d57"
   }
  }
 },
 "nbformat": 4,
 "nbformat_minor": 2
}
